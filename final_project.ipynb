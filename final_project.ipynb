{
 "cells": [
  {
   "cell_type": "markdown",
   "id": "102c557b-caf0-4032-95b4-d3905b890df1",
   "metadata": {},
   "source": [
    "This is sophie kim's dsci 100 final project"
   ]
  }
 ],
 "metadata": {
  "kernelspec": {
   "display_name": "R",
   "language": "R",
   "name": "ir"
  },
  "language_info": {
   "codemirror_mode": "r",
   "file_extension": ".r",
   "mimetype": "text/x-r-source",
   "name": "R",
   "pygments_lexer": "r",
   "version": "4.3.3"
  }
 },
 "nbformat": 4,
 "nbformat_minor": 5
}
